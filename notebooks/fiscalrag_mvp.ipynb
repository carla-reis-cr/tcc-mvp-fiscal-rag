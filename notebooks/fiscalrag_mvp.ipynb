{
 "cells": [
  {
   "cell_type": "markdown",
   "metadata": {},
   "source": [
    "## 1. Extração das regras do Manual do Guia Prático"
   ]
  },
  {
   "cell_type": "markdown",
   "metadata": {},
   "source": [
    "Existe o [site](https://www.i2pdf.com/) que poderia auxiliar na extração das tabelas para csv, porém existe alguns problemas, que também encontrei quando fui atras de uma biblioteca para extrair as tabelas\n",
    "\n",
    "Ferramentas Pesquisadas\n",
    "`PyPDF2`: é usado para manipular o arquivo PDF.\n",
    "`PyMuPDF`:  para extrair texto de PDFs simples.\n",
    "Já o `Camelot` ou `Tabula` para extrair tabelas estruturadas, porém entre os dois o melhor que perfomou foi o `Camelot`\n",
    "\n",
    "Proposta: Essas tabelas extraídas terá os campos dos registros e será possível no passo 2 extrair as regras de validação para cada campo. Ideal seria RAG para gerar as regras de validações que devemos considerar nos dados. "
   ]
  },
  {
   "cell_type": "markdown",
   "metadata": {},
   "source": [
    "Configuração Inicial"
   ]
  },
  {
   "cell_type": "code",
   "execution_count": 2,
   "metadata": {},
   "outputs": [],
   "source": [
    "import os\n",
    "import sys\n",
    "import pandas as pd"
   ]
  },
  {
   "cell_type": "code",
   "execution_count": 3,
   "metadata": {},
   "outputs": [],
   "source": [
    "# Adicionar caminho absoluto do diretório dos scripts\n",
    "sys.path.append(os.path.abspath(\"../scripts\"))\n",
    "\n",
    "from extract_tables import processar_pasta"
   ]
  },
  {
   "cell_type": "code",
   "execution_count": 4,
   "metadata": {},
   "outputs": [
    {
     "name": "stdout",
     "output_type": "stream",
     "text": [
      "Caminho de entrada: e:\\Carla Reis\\Projects\\Notebooks\\fiscal-rag\\data\\pdfs\n",
      "Caminho de saída: e:\\Carla Reis\\Projects\\Notebooks\\fiscal-rag\\data\\processed\\registros\n"
     ]
    }
   ],
   "source": [
    "# Configurar caminhos absolutos\n",
    "caminho_base = os.path.abspath(os.path.join(os.getcwd(), \"..\"))\n",
    "pasta_entrada = os.path.abspath(os.path.join(caminho_base, \"data\", \"pdfs\"))  # PDFs originais\n",
    "pasta_saida = os.path.abspath(os.path.join(caminho_base, \"data\", \"processed\", \"registros\"))  # CSVs processados\n",
    "\n",
    "# Verificar caminhos\n",
    "print(f\"Caminho de entrada: {pasta_entrada}\")\n",
    "print(f\"Caminho de saída: {pasta_saida}\")"
   ]
  },
  {
   "cell_type": "code",
   "execution_count": 5,
   "metadata": {},
   "outputs": [
    {
     "name": "stderr",
     "output_type": "stream",
     "text": [
      "c:\\Users\\clr_c\\anaconda3\\envs\\fiscalrag\\lib\\site-packages\\camelot\\utils.py:740: UserWarning:   (551.64, 554.13) does not lie in column range (48.71017487395207, 551.2888847138252)\n",
      "  warnings.warn(\n",
      "c:\\Users\\clr_c\\anaconda3\\envs\\fiscalrag\\lib\\site-packages\\camelot\\utils.py:740: UserWarning:   (551.64, 554.64) does not lie in column range (48.71017487395207, 551.2888847138252)\n",
      "  warnings.warn(\n"
     ]
    },
    {
     "name": "stdout",
     "output_type": "stream",
     "text": [
      "Coluna Anterior:Index(['Nº', 'Campo', 'Descrição', 'Tipo', 'Tam', 'Dec', 'Obrig'], dtype='object', name=0)\n",
      "Coluna Anterior:Index(['Nº', 'Campo', 'Descrição', 'Tipo', 'Tam', 'Dec', 'Obrig'], dtype='object', name=0)\n",
      "Processado e:\\Carla Reis\\Projects\\Notebooks\\fiscal-rag\\data\\pdfs\\0200-0205.pdf - 2 tabela(s) processada(s).\n",
      "Coluna Anterior:Index(['Nº', 'Campo', 'Descrição', 'Tipo', 'Tam', 'Dec', 'Obrig'], dtype='object', name=0)\n",
      "Coluna Anterior:Index(['Nº', 'Campo', 'Descrição', 'Tipo', 'Tam', 'Dec', 'Entr', 'Saída'], dtype='object', name=0)\n",
      "Coluna Anterior:Index(['Nº', 'Campo', 'Descrição', 'Tipo', 'Tam', 'Dec', 'Entr', 'Saída'], dtype='object', name=0)\n",
      "Processado e:\\Carla Reis\\Projects\\Notebooks\\fiscal-rag\\data\\pdfs\\C100.pdf - 3 tabela(s) processada(s).\n",
      "Coluna Anterior:Index(['Nº', 'Campo', 'Descrição', 'Tipo', 'Tam', 'Dec', 'Entr', 'Saída'], dtype='object', name=0)\n",
      "Coluna Anterior:Index(['Nº', 'Campo', 'Descrição', 'Tipo', 'Tam', 'Dec', 'Entr', 'Saída'], dtype='object', name=0)\n",
      "Processado e:\\Carla Reis\\Projects\\Notebooks\\fiscal-rag\\data\\pdfs\\C170.pdf - tabela desconsiderada\n",
      "Processado e:\\Carla Reis\\Projects\\Notebooks\\fiscal-rag\\data\\pdfs\\C170.pdf - tabela desconsiderada\n",
      "Processado e:\\Carla Reis\\Projects\\Notebooks\\fiscal-rag\\data\\pdfs\\C170.pdf - tabela desconsiderada\n",
      "Processado e:\\Carla Reis\\Projects\\Notebooks\\fiscal-rag\\data\\pdfs\\C170.pdf - tabela desconsiderada\n",
      "Processado e:\\Carla Reis\\Projects\\Notebooks\\fiscal-rag\\data\\pdfs\\C170.pdf - tabela desconsiderada\n",
      "Processado e:\\Carla Reis\\Projects\\Notebooks\\fiscal-rag\\data\\pdfs\\C170.pdf - tabela desconsiderada\n",
      "Processado e:\\Carla Reis\\Projects\\Notebooks\\fiscal-rag\\data\\pdfs\\C170.pdf - tabela desconsiderada\n",
      "Processado e:\\Carla Reis\\Projects\\Notebooks\\fiscal-rag\\data\\pdfs\\C170.pdf - 2 tabela(s) processada(s).\n",
      "Resultados do processamento:\n"
     ]
    },
    {
     "data": {
      "text/html": [
       "<div>\n",
       "<style scoped>\n",
       "    .dataframe tbody tr th:only-of-type {\n",
       "        vertical-align: middle;\n",
       "    }\n",
       "\n",
       "    .dataframe tbody tr th {\n",
       "        vertical-align: top;\n",
       "    }\n",
       "\n",
       "    .dataframe thead th {\n",
       "        text-align: right;\n",
       "    }\n",
       "</style>\n",
       "<table border=\"1\" class=\"dataframe\">\n",
       "  <thead>\n",
       "    <tr style=\"text-align: right;\">\n",
       "      <th></th>\n",
       "      <th>Arquivo</th>\n",
       "      <th>Status</th>\n",
       "    </tr>\n",
       "  </thead>\n",
       "  <tbody>\n",
       "    <tr>\n",
       "      <th>0</th>\n",
       "      <td>0200-0205.pdf</td>\n",
       "      <td>✅ Sucesso</td>\n",
       "    </tr>\n",
       "    <tr>\n",
       "      <th>1</th>\n",
       "      <td>C100.pdf</td>\n",
       "      <td>✅ Sucesso</td>\n",
       "    </tr>\n",
       "    <tr>\n",
       "      <th>2</th>\n",
       "      <td>C170.pdf</td>\n",
       "      <td>✅ Sucesso</td>\n",
       "    </tr>\n",
       "  </tbody>\n",
       "</table>\n",
       "</div>"
      ],
      "text/plain": [
       "         Arquivo     Status\n",
       "0  0200-0205.pdf  ✅ Sucesso\n",
       "1       C100.pdf  ✅ Sucesso\n",
       "2       C170.pdf  ✅ Sucesso"
      ]
     },
     "metadata": {},
     "output_type": "display_data"
    }
   ],
   "source": [
    "# Processar todos os PDFs\n",
    "resultados = processar_pasta(pasta_entrada, pasta_saida)\n",
    "\n",
    "# Mostrar resultados\n",
    "print(\"Resultados do processamento:\")\n",
    "display(resultados)"
   ]
  },
  {
   "cell_type": "code",
   "execution_count": 6,
   "metadata": {},
   "outputs": [
    {
     "name": "stdout",
     "output_type": "stream",
     "text": [
      "\n",
      "Conteúdo do arquivo: registro_0200.csv\n",
      "   Nº         Campo                                          Descrição Tipo  \\\n",
      "0   1           REG                         Texto fixo contendo \"0200\"    C   \n",
      "1   2      COD_ITEM                                     Código do item    C   \n",
      "2   3    DESCR_ITEM                                  Descrição do item    C   \n",
      "3   4     COD_BARRA  Representação alfanumérico do código de barrad...    C   \n",
      "4   5  COD_ANT_ITEM  Código  anterior  do  item  com  relação  à  ú...    C   \n",
      "\n",
      "   Tam Dec                 Obrig  \n",
      "0  004   -                     O  \n",
      "1  060   -                     O  \n",
      "2    -   -                     O  \n",
      "3    -   -                    OC  \n",
      "4  060   -  N (informar no 0205)  \n",
      "--------------------------------------------------\n",
      "\n",
      "Conteúdo do arquivo: registro_0205.csv\n",
      "   Nº           Campo                                          Descrição Tipo  \\\n",
      "0   1             REG                         Texto fixo contendo \"0205\"    C   \n",
      "1   2  DESCR_ANT_ITEM                         Descrição anterior do item    C   \n",
      "2   3          DT_INI    Data inicial de utilização da descrição do item    N   \n",
      "3   4          DT_FIM      Data final de utilização da descrição do item    N   \n",
      "4   5    COD_ANT_ITEM  Código anterior do item com relação à última i...    C   \n",
      "\n",
      "    Tam Dec Obrig  \n",
      "0   004   -     O  \n",
      "1     -   -    OC  \n",
      "2  008*   -     O  \n",
      "3  008*   -     O  \n",
      "4   060   -    OC  \n",
      "--------------------------------------------------\n",
      "\n",
      "Conteúdo do arquivo: registro_C001.csv\n",
      "   Nº    Campo                                          Descrição Tipo  Tam  \\\n",
      "0   1      REG                         Texto fixo contendo \"C001\"    C    4   \n",
      "1   2  IND_MOV  Indicador de movimento: 0- Bloco com dados inf...    C    1   \n",
      "\n",
      "  Dec Obrig  \n",
      "0   -     O  \n",
      "1   -     O  \n",
      "--------------------------------------------------\n",
      "\n",
      "Conteúdo do arquivo: registro_C100.csv\n",
      "    Nº     Campo                                          Descrição Tipo  \\\n",
      "0  1.0       REG                         Texto fixo contendo \"C100\"    C   \n",
      "1  2.0  IND_OPER  Indicador do tipo de operação: 0 - Entrada; 1 ...    C   \n",
      "2  3.0  IND_EMIT  Indicador do emitente do documento fiscal: 0 -...    C   \n",
      "3  4.0  COD_PART  Código do participante (campo 02 do Registro 0...    C   \n",
      "4  5.0   COD_MOD  Código do  modelo do documento fiscal, conform...    C   \n",
      "\n",
      "    Tam Dec Entr Saída  \n",
      "0   004   -    O     O  \n",
      "1  001*   -    O     O  \n",
      "2  001*   -    O     O  \n",
      "3   060   -    O     O  \n",
      "4  002*   -    O     O  \n",
      "--------------------------------------------------\n",
      "\n",
      "Conteúdo do arquivo: registro_C101.csv\n",
      "   Nº            Campo                                          Descrição  \\\n",
      "0   1              REG                         Texto fixo contendo “C101”   \n",
      "1   2   VL_FCP_UF_DEST  Valor total relativo ao Fundo de Combate à Pob...   \n",
      "2   3  VL_ICMS_UF_DEST  Valor total do ICMS Interestadual para a UF de...   \n",
      "\n",
      "  Tipo  Tam Dec Entr. Saídas  \n",
      "0    C  004   -     O      O  \n",
      "1    N    -  02     O      O  \n",
      "2    N    -  02     O      O  \n",
      "--------------------------------------------------\n",
      "\n",
      "Conteúdo do arquivo: registro_C165.csv\n",
      "   Nº     Campo                                          Descrição Tipo  Tam  \\\n",
      "0   1       REG                         Texto fixo contendo \"C165”    C  004   \n",
      "1   2  COD_PART  Código do participante (campo 02 do Registro 0...    C  060   \n",
      "2   3   VEIC_ID                  Placa de identificação do veículo    C  007   \n",
      "3   4   COD_AUT  Código da autorização fornecido pela SEFAZ (co...    C    -   \n",
      "4   5  NR_PASSE                             Número do Passe Fiscal    C    -   \n",
      "\n",
      "  Dec            Entr Saída  \n",
      "0   -  Não apresentar     O  \n",
      "1   -             NaN    OC  \n",
      "2   -             NaN     O  \n",
      "3   -             NaN    OC  \n",
      "4   -             NaN    OC  \n",
      "--------------------------------------------------\n",
      "\n",
      "Conteúdo do arquivo: registro_C170.csv\n",
      "   Nº        Campo                                          Descrição Tipo  \\\n",
      "0   1          REG                         Texto fixo contendo \"C170\"    C   \n",
      "1   2     NUM_ITEM      Número sequencial do item no documento fiscal    N   \n",
      "2   3     COD_ITEM         Código do item (campo 02 do Registro 0200)    C   \n",
      "3   4  DESCR_COMPL  Descrição complementar do item como adotado no...    C   \n",
      "4   5          QTD                                 Quantidade do item    N   \n",
      "\n",
      "   Tam Dec Entr Saída  \n",
      "0  004   -    O     O  \n",
      "1  003   -    O     O  \n",
      "2  060   -    O     O  \n",
      "3    -   -   OC    OC  \n",
      "4    -  05    O     O  \n",
      "--------------------------------------------------\n"
     ]
    }
   ],
   "source": [
    "# Diretório onde os arquivos .csv estão localizados\n",
    "diretorio = \"../data/processed/registros\"\n",
    "\n",
    "# Listar todos os arquivos .csv no diretório\n",
    "arquivos_csv = [arquivo for arquivo in os.listdir(diretorio) if arquivo.endswith(\".csv\")]\n",
    "\n",
    "# Verificar se há arquivos .csv no diretório\n",
    "if not arquivos_csv:\n",
    "    print(\"Nenhum arquivo .csv encontrado no diretório.\")\n",
    "else:\n",
    "    # Ler e exibir cada arquivo .csv\n",
    "    for arquivo in arquivos_csv:\n",
    "        caminho_arquivo = os.path.join(diretorio, arquivo)\n",
    "        print(f\"\\nConteúdo do arquivo: {arquivo}\")\n",
    "        \n",
    "        # Ler o arquivo .csv\n",
    "        df = pd.read_csv(caminho_arquivo)\n",
    "        \n",
    "        # Exibir as primeiras linhas da tabela\n",
    "        print(df.head())  # Exibe as primeiras 5 linhas por padrão\n",
    "        print(\"-\" * 50)  # Separador visual"
   ]
  },
  {
   "cell_type": "markdown",
   "metadata": {},
   "source": [
    "## 2. Extração das regras com REGEX ou pelo próprio modelo de LLM "
   ]
  },
  {
   "cell_type": "markdown",
   "metadata": {},
   "source": [
    "### O QUE VALIDAR?\n",
    "\n",
    "Campo 01 (REG)\n",
    "\n",
    "Validação do Registro:\n",
    "\n",
    "Valor Válido:\n",
    "\n",
    "Validação:\n",
    "\n",
    "Preenchimento:\n",
    "\n",
    "Guia Prático EFD-ICMS/IPI – Versão 3.1.7  \n",
    "Atualização: 14 de agosto de 2024 \n",
    "\n",
    "IMPORTANTE: \n",
    "\n",
    "Observações:   \n",
    "\n",
    "Nível hierárquico - 3\n",
    "Ocorrência - 1:N (um ou vários por registro C100)\n",
    " "
   ]
  },
  {
   "cell_type": "markdown",
   "metadata": {},
   "source": [
    "## 3. AI Generativa (RAG) explicando os erros com base nas regras de validação (Exemplo ludico)"
   ]
  },
  {
   "cell_type": "code",
   "execution_count": 9,
   "metadata": {},
   "outputs": [
    {
     "name": "stdout",
     "output_type": "stream",
     "text": [
      "Documento 1:\n",
      "{\n",
      "    \"0200\": [\n",
      "      {\n",
      "        \"campo\": \"COD_ITEM\",\n",
      "        \"obrigatorio\": true,\n",
      "        \"formato\": \"\\\\d+\",\n",
      "        \"mensagem_erro\": \"COD_ITEM deve ser numérico e único.\"\n",
      "      },\n",
      "      {\n",
      "        \"campo\": \"COD_NCM\",\n",
      "        \"obrigatorio\": true,\n",
      "        \"formato\": \"^\\\\d{4}\\\\.\\\\d{2}\\\\.\\\\d{2}$\",\n",
      "        \"mensagem_erro\": \"COD_NCM inválido. Formato correto: NNNN.NN.NN.\"\n",
      "      },\n",
      "      {\n",
      "        \"campo\": \"UNID_INV\",\n",
      "        \"obrigatorio\": true,\n",
      "        \"valores_permitidos\": [\"UN\", \"KG\", \"LT\"],\n",
      "        \"mensagem_erro\": \"UNID_INV deve ser UN, KG ou LT.\"\n",
      "      }\n",
      "    ]\n",
      "  }\n",
      "--------------------------------------------------\n"
     ]
    }
   ],
   "source": [
    "from llama_index.core import SimpleDirectoryReader\n",
    "documentos = SimpleDirectoryReader(input_files=[\"../data/exemplos/regras.json\"]).load_data()\n",
    "\n",
    "# Imprimir o conteúdo de cada documento\n",
    "for i, documento in enumerate(documentos):\n",
    "    print(f\"Documento {i + 1}:\")\n",
    "    print(documento.text)  # Acessa o texto do documento\n",
    "    print(\"-\" * 50)  # Separador para melhor visualização"
   ]
  },
  {
   "cell_type": "code",
   "execution_count": null,
   "metadata": {},
   "outputs": [
    {
     "name": "stdout",
     "output_type": "stream",
     "text": [
      "**Erro**: Linha 2: COD_NCM inválido. Formato correto: NNNN.NN.NN.\n",
      "**Explicação RAG**:  The error message you provided indicates that the value entered for the \"COD_NCM\" field is invalid. According to the context information provided, the correct format for this field is \"^\\\\d{4}\\\\.\\\\d{2:\\\\.\\\\d{2}$\". In other words, the COD_NCM must be a valid VAT number in the format of \"NNNN.NN.NN\", where N represents a digit.\n",
      "\n",
      "Therefore, the error message is indicating that the value entered for COD_NCM does not match this format, and it must be corrected in order to proceed with the validation process.\n",
      "\n",
      "**Erro**: Linha 3: UNID_INV deve ser UN, KG ou LT.\n",
      "**Explicação RAG**:  The error message \" Linha 3: UNID_INV deve ser UN, KG ou LT.\" indicates that the value entered for the \"UNID_INV\" field is not valid. According to the context information provided, the valid values for this field are \"UN\", \"KG\", and \"LT\". If the value entered does not match one of these options, it will be considered invalid and the validation will fail. In other words, the field requires a specific format or value, and the current input does not meet that requirement.\n",
      "\n"
     ]
    }
   ],
   "source": [
    "from llama_index.core import VectorStoreIndex\n",
    "from llama_index.llms.ollama import Ollama\n",
    "from llama_index.embeddings.huggingface import HuggingFaceEmbedding\n",
    "import time\n",
    "from tenacity import retry, wait_exponential, stop_after_attempt\n",
    "\n",
    "# Configurar LLM (usando Mistral via Ollama)\n",
    "llm = Ollama(model=\"llama2\", request_timeout=60.0)\n",
    "embed_model = HuggingFaceEmbedding(model_name=\"sentence-transformers/all-MiniLM-L6-v2\")\n",
    "\n",
    "# Carregar contexto das regras\n",
    "\n",
    "indice = VectorStoreIndex.from_documents(documentos, embed_model=embed_model)\n",
    "motor_rag = indice.as_query_engine(llm=llm)\n",
    "\n",
    "# Função para explicar erros\n",
    "@retry(wait=wait_exponential(multiplier=1, min=4, max=10), stop=stop_after_attempt(5))\n",
    "def explicar_erro(erro):\n",
    "    resposta = motor_rag.query(\n",
    "        f\"Explique o seguinte erro de validação do EFD ICMS/IPI em português: '{erro}'. Seja claro e direto.\"\n",
    "    )\n",
    "    return resposta.response\n",
    "\n",
    "# Exemplo de uso\n",
    "erros = [\n",
    "    \"Linha 2: COD_NCM inválido. Formato correto: NNNN.NN.NN.\",\n",
    "    \"Linha 3: UNID_INV deve ser UN, KG ou LT.\"\n",
    "]\n",
    "\n",
    "for erro in erros:\n",
    "    explicacao = explicar_erro(erro)\n",
    "    print(f\"**Erro**: {erro}\\n**Explicação RAG**: {explicacao}\\n\")"
   ]
  },
  {
   "cell_type": "markdown",
   "metadata": {},
   "source": [
    "#### Traduzido pelo Tradutor\n",
    "\n",
    "**Erro**: Linha 2: COD_NCM inválido. Formato correto: NNNN.NN.NN.\n",
    "\n",
    "**Explicação RAG**: A mensagem de erro que você forneceu indica que o valor inserido para o campo \"COD_NCM\" é inválido. De acordo com as informações de contexto fornecidas, o formato correto para este campo é \"^\\\\d{4}\\\\.\\\\d{2:\\\\.\\\\d{2}$\". Em outras palavras, o COD_NCM deve ser um número de IVA válido no formato \"NNNN.NN.NN\", onde N representa um dígito.\n",
    "\n",
    "Portanto, a mensagem de erro está indicando que o valor inserido para COD_NCM não corresponde a este formato e deve ser corrigido para prosseguir com o processo de validação.\n",
    "\n",
    "-------------------------------\n",
    "\n",
    "**Erro**: Linha 3: UNID_INV deve ser UN, KG ou LT.\n",
    "\n",
    "**Explicação RAG**: A mensagem de erro \" Linha 3: UNID_INV deve ser UN, KG ou LT.\" indica que o valor inserido para o campo \"UNID_INV\" não é válido. De acordo com as informações de contexto fornecidas, os valores válidos para este campo são \"UN\", \"KG\" e \"LT\". Se o valor inserido não corresponder a uma dessas opções, ele será considerado inválido e a validação falhará. Em outras palavras, o campo requer um formato ou valor específico, e a entrada atual não atende a esse requisito."
   ]
  }
 ],
 "metadata": {
  "kernelspec": {
   "display_name": "fiscalrag",
   "language": "python",
   "name": "python3"
  },
  "language_info": {
   "codemirror_mode": {
    "name": "ipython",
    "version": 3
   },
   "file_extension": ".py",
   "mimetype": "text/x-python",
   "name": "python",
   "nbconvert_exporter": "python",
   "pygments_lexer": "ipython3",
   "version": "3.9.21"
  }
 },
 "nbformat": 4,
 "nbformat_minor": 2
}
