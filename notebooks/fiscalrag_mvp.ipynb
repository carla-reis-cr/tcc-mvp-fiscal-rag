{
 "cells": [
  {
   "cell_type": "markdown",
   "metadata": {},
   "source": [
    "Configuração Inicial"
   ]
  },
  {
   "cell_type": "code",
   "execution_count": 1,
   "metadata": {},
   "outputs": [],
   "source": [
    "from dotenv import load_dotenv\n",
    "import os\n",
    "import sys\n",
    "import pandas as pd\n"
   ]
  },
  {
   "cell_type": "code",
   "execution_count": 2,
   "metadata": {},
   "outputs": [],
   "source": [
    "# Adicionar caminho absoluto do diretório dos scripts\n",
    "sys.path.append(os.path.abspath(\"../scripts\"))\n",
    "\n",
    "from extract_tables import processar_pasta"
   ]
  },
  {
   "cell_type": "code",
   "execution_count": 3,
   "metadata": {},
   "outputs": [],
   "source": [
    "# Carregar variáveis do arquivo .env\n",
    "load_dotenv()\n",
    "\n",
    "openai_key = os.getenv(\"OPENAI_API_KEY\")"
   ]
  },
  {
   "cell_type": "code",
   "execution_count": null,
   "metadata": {},
   "outputs": [
    {
     "name": "stdout",
     "output_type": "stream",
     "text": [
      "Caminho de entrada: e:\\Carla Reis\\Projects\\Notebooks\\fiscal-rag\\data\\raw\n",
      "Caminho de saída: e:\\Carla Reis\\Projects\\Notebooks\\fiscal-rag\\data\\processed\\registros\n"
     ]
    }
   ],
   "source": [
    "# Configurar caminhos absolutos\n",
    "caminho_base = os.path.abspath(os.path.join(os.getcwd(), \"..\"))\n",
    "pasta_entrada = os.path.abspath(os.path.join(caminho_base, \"data\", \"pdfs\"))  # PDFs originais\n",
    "pasta_saida = os.path.abspath(os.path.join(caminho_base, \"data\", \"processed\", \"registros\"))  # CSVs processados\n",
    "\n",
    "# Verificar caminhos\n",
    "print(f\"Caminho de entrada: {pasta_entrada}\")\n",
    "print(f\"Caminho de saída: {pasta_saida}\")"
   ]
  },
  {
   "cell_type": "markdown",
   "metadata": {},
   "source": [
    "1. Extração das regras do Manual do Guia Prático"
   ]
  },
  {
   "cell_type": "code",
   "execution_count": 5,
   "metadata": {},
   "outputs": [
    {
     "name": "stderr",
     "output_type": "stream",
     "text": [
      "c:\\Users\\clr_c\\anaconda3\\envs\\fiscalrag\\lib\\site-packages\\camelot\\utils.py:740: UserWarning:   (551.64, 554.13) does not lie in column range (48.71017487395207, 551.2888847138252)\n",
      "  warnings.warn(\n",
      "c:\\Users\\clr_c\\anaconda3\\envs\\fiscalrag\\lib\\site-packages\\camelot\\utils.py:740: UserWarning:   (551.64, 554.64) does not lie in column range (48.71017487395207, 551.2888847138252)\n",
      "  warnings.warn(\n"
     ]
    },
    {
     "name": "stdout",
     "output_type": "stream",
     "text": [
      "Coluna Anterior:Index(['Nº', 'Campo', 'Descrição', 'Tipo', 'Tam', 'Dec', 'Obrig'], dtype='object', name=0)\n",
      "Coluna Anterior:Index(['Nº', 'Campo', 'Descrição', 'Tipo', 'Tam', 'Dec', 'Obrig'], dtype='object', name=0)\n",
      "Processado e:\\Carla Reis\\Projects\\Notebooks\\fiscal-rag\\data\\raw\\0200-0205.pdf - 2 tabela(s) processada(s).\n",
      "Coluna Anterior:Index(['Nº', 'Campo', 'Descrição', 'Tipo', 'Tam', 'Dec', 'Obrig'], dtype='object', name=0)\n",
      "Coluna Anterior:Index(['Nº', 'Campo', 'Descrição', 'Tipo', 'Tam', 'Dec', 'Entr', 'Saída'], dtype='object', name=0)\n",
      "Coluna Anterior:Index(['Nº', 'Campo', 'Descrição', 'Tipo', 'Tam', 'Dec', 'Entr', 'Saída'], dtype='object', name=0)\n",
      "Processado e:\\Carla Reis\\Projects\\Notebooks\\fiscal-rag\\data\\raw\\C100.pdf - 3 tabela(s) processada(s).\n",
      "Coluna Anterior:Index(['Nº', 'Campo', 'Descrição', 'Tipo', 'Tam', 'Dec', 'Entr', 'Saída'], dtype='object', name=0)\n",
      "Coluna Anterior:Index(['Nº', 'Campo', 'Descrição', 'Tipo', 'Tam', 'Dec', 'Entr', 'Saída'], dtype='object', name=0)\n",
      "Processado e:\\Carla Reis\\Projects\\Notebooks\\fiscal-rag\\data\\raw\\C170.pdf - tabela desconsiderada\n",
      "Processado e:\\Carla Reis\\Projects\\Notebooks\\fiscal-rag\\data\\raw\\C170.pdf - tabela desconsiderada\n",
      "Processado e:\\Carla Reis\\Projects\\Notebooks\\fiscal-rag\\data\\raw\\C170.pdf - tabela desconsiderada\n",
      "Processado e:\\Carla Reis\\Projects\\Notebooks\\fiscal-rag\\data\\raw\\C170.pdf - tabela desconsiderada\n",
      "Processado e:\\Carla Reis\\Projects\\Notebooks\\fiscal-rag\\data\\raw\\C170.pdf - tabela desconsiderada\n",
      "Processado e:\\Carla Reis\\Projects\\Notebooks\\fiscal-rag\\data\\raw\\C170.pdf - tabela desconsiderada\n",
      "Processado e:\\Carla Reis\\Projects\\Notebooks\\fiscal-rag\\data\\raw\\C170.pdf - tabela desconsiderada\n",
      "Processado e:\\Carla Reis\\Projects\\Notebooks\\fiscal-rag\\data\\raw\\C170.pdf - 2 tabela(s) processada(s).\n",
      "Resultados do processamento:\n"
     ]
    },
    {
     "data": {
      "text/html": [
       "<div>\n",
       "<style scoped>\n",
       "    .dataframe tbody tr th:only-of-type {\n",
       "        vertical-align: middle;\n",
       "    }\n",
       "\n",
       "    .dataframe tbody tr th {\n",
       "        vertical-align: top;\n",
       "    }\n",
       "\n",
       "    .dataframe thead th {\n",
       "        text-align: right;\n",
       "    }\n",
       "</style>\n",
       "<table border=\"1\" class=\"dataframe\">\n",
       "  <thead>\n",
       "    <tr style=\"text-align: right;\">\n",
       "      <th></th>\n",
       "      <th>Arquivo</th>\n",
       "      <th>Status</th>\n",
       "    </tr>\n",
       "  </thead>\n",
       "  <tbody>\n",
       "    <tr>\n",
       "      <th>0</th>\n",
       "      <td>0200-0205.pdf</td>\n",
       "      <td>✅ Sucesso</td>\n",
       "    </tr>\n",
       "    <tr>\n",
       "      <th>1</th>\n",
       "      <td>C100.pdf</td>\n",
       "      <td>✅ Sucesso</td>\n",
       "    </tr>\n",
       "    <tr>\n",
       "      <th>2</th>\n",
       "      <td>C170.pdf</td>\n",
       "      <td>✅ Sucesso</td>\n",
       "    </tr>\n",
       "  </tbody>\n",
       "</table>\n",
       "</div>"
      ],
      "text/plain": [
       "         Arquivo     Status\n",
       "0  0200-0205.pdf  ✅ Sucesso\n",
       "1       C100.pdf  ✅ Sucesso\n",
       "2       C170.pdf  ✅ Sucesso"
      ]
     },
     "metadata": {},
     "output_type": "display_data"
    }
   ],
   "source": [
    "# Processar todos os PDFs\n",
    "resultados = processar_pasta(pasta_entrada, pasta_saida)\n",
    "\n",
    "# Mostrar resultados\n",
    "print(\"Resultados do processamento:\")\n",
    "display(resultados)"
   ]
  }
 ],
 "metadata": {
  "kernelspec": {
   "display_name": "fiscalrag",
   "language": "python",
   "name": "python3"
  },
  "language_info": {
   "codemirror_mode": {
    "name": "ipython",
    "version": 3
   },
   "file_extension": ".py",
   "mimetype": "text/x-python",
   "name": "python",
   "nbconvert_exporter": "python",
   "pygments_lexer": "ipython3",
   "version": "3.9.21"
  }
 },
 "nbformat": 4,
 "nbformat_minor": 2
}
